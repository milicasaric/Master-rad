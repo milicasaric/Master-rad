{
 "cells": [
  {
   "cell_type": "code",
   "execution_count": 1,
   "metadata": {},
   "outputs": [],
   "source": [
    "# importovanje biblioteka koje ce nam biti potrebne kasnije\n",
    "import numpy as np\n",
    "import pandas as pd \n",
    "import time\n",
    "from sklearn.model_selection import train_test_split\n",
    "from sklearn import linear_model\n",
    "from sklearn.linear_model import LogisticRegression\n",
    "from sklearn.metrics import classification_report\n",
    "from sklearn import model_selection\n",
    "import os\n",
    "import warnings\n",
    "warnings.filterwarnings('ignore')\n",
    "import matplotlib.pyplot as plt\n",
    "import seaborn as sns\n",
    "from sklearn.metrics import roc_auc_score\n",
    "from sklearn.metrics import roc_curve\n",
    "import pandas.core.algorithms as algos\n",
    "from pandas import Series\n",
    "import scipy.stats.stats as stats\n",
    "import re\n",
    "import traceback\n",
    "import string"
   ]
  },
  {
   "cell_type": "code",
   "execution_count": 6,
   "metadata": {},
   "outputs": [
    {
     "name": "stdout",
     "output_type": "stream",
     "text": [
      "Dimenzije trening skupa:  (246008, 1543)\n"
     ]
    },
    {
     "data": {
      "text/html": [
       "<div>\n",
       "<style scoped>\n",
       "    .dataframe tbody tr th:only-of-type {\n",
       "        vertical-align: middle;\n",
       "    }\n",
       "\n",
       "    .dataframe tbody tr th {\n",
       "        vertical-align: top;\n",
       "    }\n",
       "\n",
       "    .dataframe thead th {\n",
       "        text-align: right;\n",
       "    }\n",
       "</style>\n",
       "<table border=\"1\" class=\"dataframe\">\n",
       "  <thead>\n",
       "    <tr style=\"text-align: right;\">\n",
       "      <th></th>\n",
       "      <th>SK_ID_CURR</th>\n",
       "      <th>NAME_CONTRACT_TYPE</th>\n",
       "      <th>CODE_GENDER</th>\n",
       "      <th>FLAG_OWN_CAR</th>\n",
       "      <th>FLAG_OWN_REALTY</th>\n",
       "      <th>CNT_CHILDREN</th>\n",
       "      <th>AMT_INCOME_TOTAL</th>\n",
       "      <th>AMT_CREDIT</th>\n",
       "      <th>AMT_ANNUITY</th>\n",
       "      <th>AMT_GOODS_PRICE</th>\n",
       "      <th>...</th>\n",
       "      <th>client_installments_AMT_PAYMENT_min_count</th>\n",
       "      <th>client_installments_AMT_PAYMENT_min_mean</th>\n",
       "      <th>client_installments_AMT_PAYMENT_min_max</th>\n",
       "      <th>client_installments_AMT_PAYMENT_min_min</th>\n",
       "      <th>client_installments_AMT_PAYMENT_min_sum</th>\n",
       "      <th>client_installments_AMT_PAYMENT_sum_count</th>\n",
       "      <th>client_installments_AMT_PAYMENT_sum_mean</th>\n",
       "      <th>client_installments_AMT_PAYMENT_sum_max</th>\n",
       "      <th>client_installments_AMT_PAYMENT_sum_min</th>\n",
       "      <th>client_installments_AMT_PAYMENT_sum_sum</th>\n",
       "    </tr>\n",
       "  </thead>\n",
       "  <tbody>\n",
       "    <tr>\n",
       "      <th>181648</th>\n",
       "      <td>310536</td>\n",
       "      <td>Cash loans</td>\n",
       "      <td>F</td>\n",
       "      <td>N</td>\n",
       "      <td>N</td>\n",
       "      <td>2</td>\n",
       "      <td>90000.0</td>\n",
       "      <td>227520.0</td>\n",
       "      <td>13189.5</td>\n",
       "      <td>180000.0</td>\n",
       "      <td>...</td>\n",
       "      <td>57.0</td>\n",
       "      <td>3846.4800</td>\n",
       "      <td>10338.120</td>\n",
       "      <td>75.555</td>\n",
       "      <td>219249.360</td>\n",
       "      <td>57.0</td>\n",
       "      <td>160426.550</td>\n",
       "      <td>223200.000</td>\n",
       "      <td>32691.105</td>\n",
       "      <td>9144313.00</td>\n",
       "    </tr>\n",
       "    <tr>\n",
       "      <th>229245</th>\n",
       "      <td>365516</td>\n",
       "      <td>Cash loans</td>\n",
       "      <td>M</td>\n",
       "      <td>Y</td>\n",
       "      <td>Y</td>\n",
       "      <td>0</td>\n",
       "      <td>90000.0</td>\n",
       "      <td>161730.0</td>\n",
       "      <td>13095.0</td>\n",
       "      <td>135000.0</td>\n",
       "      <td>...</td>\n",
       "      <td>27.0</td>\n",
       "      <td>9602.7900</td>\n",
       "      <td>13984.650</td>\n",
       "      <td>3826.665</td>\n",
       "      <td>259275.330</td>\n",
       "      <td>27.0</td>\n",
       "      <td>84089.430</td>\n",
       "      <td>153913.500</td>\n",
       "      <td>22835.790</td>\n",
       "      <td>2270414.80</td>\n",
       "    </tr>\n",
       "    <tr>\n",
       "      <th>122525</th>\n",
       "      <td>242055</td>\n",
       "      <td>Cash loans</td>\n",
       "      <td>M</td>\n",
       "      <td>N</td>\n",
       "      <td>Y</td>\n",
       "      <td>0</td>\n",
       "      <td>135000.0</td>\n",
       "      <td>728847.0</td>\n",
       "      <td>26307.0</td>\n",
       "      <td>553500.0</td>\n",
       "      <td>...</td>\n",
       "      <td>4.0</td>\n",
       "      <td>12985.4700</td>\n",
       "      <td>12985.470</td>\n",
       "      <td>12985.470</td>\n",
       "      <td>51941.880</td>\n",
       "      <td>4.0</td>\n",
       "      <td>51958.484</td>\n",
       "      <td>51958.484</td>\n",
       "      <td>51958.484</td>\n",
       "      <td>207833.94</td>\n",
       "    </tr>\n",
       "    <tr>\n",
       "      <th>306311</th>\n",
       "      <td>454894</td>\n",
       "      <td>Cash loans</td>\n",
       "      <td>M</td>\n",
       "      <td>N</td>\n",
       "      <td>N</td>\n",
       "      <td>0</td>\n",
       "      <td>135000.0</td>\n",
       "      <td>474183.0</td>\n",
       "      <td>34636.5</td>\n",
       "      <td>391500.0</td>\n",
       "      <td>...</td>\n",
       "      <td>82.0</td>\n",
       "      <td>7269.0425</td>\n",
       "      <td>13692.825</td>\n",
       "      <td>4764.825</td>\n",
       "      <td>596061.500</td>\n",
       "      <td>82.0</td>\n",
       "      <td>759773.440</td>\n",
       "      <td>1170179.200</td>\n",
       "      <td>28595.521</td>\n",
       "      <td>62301424.00</td>\n",
       "    </tr>\n",
       "    <tr>\n",
       "      <th>300658</th>\n",
       "      <td>448321</td>\n",
       "      <td>Cash loans</td>\n",
       "      <td>F</td>\n",
       "      <td>N</td>\n",
       "      <td>Y</td>\n",
       "      <td>0</td>\n",
       "      <td>180000.0</td>\n",
       "      <td>254700.0</td>\n",
       "      <td>27558.0</td>\n",
       "      <td>225000.0</td>\n",
       "      <td>...</td>\n",
       "      <td>11.0</td>\n",
       "      <td>3102.6150</td>\n",
       "      <td>3102.615</td>\n",
       "      <td>3102.615</td>\n",
       "      <td>34128.766</td>\n",
       "      <td>11.0</td>\n",
       "      <td>37066.230</td>\n",
       "      <td>37066.230</td>\n",
       "      <td>37066.230</td>\n",
       "      <td>407728.53</td>\n",
       "    </tr>\n",
       "  </tbody>\n",
       "</table>\n",
       "<p>5 rows × 1543 columns</p>\n",
       "</div>"
      ],
      "text/plain": [
       "        SK_ID_CURR NAME_CONTRACT_TYPE CODE_GENDER FLAG_OWN_CAR  \\\n",
       "181648      310536         Cash loans           F            N   \n",
       "229245      365516         Cash loans           M            Y   \n",
       "122525      242055         Cash loans           M            N   \n",
       "306311      454894         Cash loans           M            N   \n",
       "300658      448321         Cash loans           F            N   \n",
       "\n",
       "       FLAG_OWN_REALTY  CNT_CHILDREN  AMT_INCOME_TOTAL  AMT_CREDIT  \\\n",
       "181648               N             2           90000.0    227520.0   \n",
       "229245               Y             0           90000.0    161730.0   \n",
       "122525               Y             0          135000.0    728847.0   \n",
       "306311               N             0          135000.0    474183.0   \n",
       "300658               Y             0          180000.0    254700.0   \n",
       "\n",
       "        AMT_ANNUITY  AMT_GOODS_PRICE  ...  \\\n",
       "181648      13189.5         180000.0  ...   \n",
       "229245      13095.0         135000.0  ...   \n",
       "122525      26307.0         553500.0  ...   \n",
       "306311      34636.5         391500.0  ...   \n",
       "300658      27558.0         225000.0  ...   \n",
       "\n",
       "       client_installments_AMT_PAYMENT_min_count  \\\n",
       "181648                                      57.0   \n",
       "229245                                      27.0   \n",
       "122525                                       4.0   \n",
       "306311                                      82.0   \n",
       "300658                                      11.0   \n",
       "\n",
       "       client_installments_AMT_PAYMENT_min_mean  \\\n",
       "181648                                3846.4800   \n",
       "229245                                9602.7900   \n",
       "122525                               12985.4700   \n",
       "306311                                7269.0425   \n",
       "300658                                3102.6150   \n",
       "\n",
       "       client_installments_AMT_PAYMENT_min_max  \\\n",
       "181648                               10338.120   \n",
       "229245                               13984.650   \n",
       "122525                               12985.470   \n",
       "306311                               13692.825   \n",
       "300658                                3102.615   \n",
       "\n",
       "       client_installments_AMT_PAYMENT_min_min  \\\n",
       "181648                                  75.555   \n",
       "229245                                3826.665   \n",
       "122525                               12985.470   \n",
       "306311                                4764.825   \n",
       "300658                                3102.615   \n",
       "\n",
       "       client_installments_AMT_PAYMENT_min_sum  \\\n",
       "181648                              219249.360   \n",
       "229245                              259275.330   \n",
       "122525                               51941.880   \n",
       "306311                              596061.500   \n",
       "300658                               34128.766   \n",
       "\n",
       "        client_installments_AMT_PAYMENT_sum_count  \\\n",
       "181648                                       57.0   \n",
       "229245                                       27.0   \n",
       "122525                                        4.0   \n",
       "306311                                       82.0   \n",
       "300658                                       11.0   \n",
       "\n",
       "        client_installments_AMT_PAYMENT_sum_mean  \\\n",
       "181648                                160426.550   \n",
       "229245                                 84089.430   \n",
       "122525                                 51958.484   \n",
       "306311                                759773.440   \n",
       "300658                                 37066.230   \n",
       "\n",
       "        client_installments_AMT_PAYMENT_sum_max  \\\n",
       "181648                               223200.000   \n",
       "229245                               153913.500   \n",
       "122525                                51958.484   \n",
       "306311                              1170179.200   \n",
       "300658                                37066.230   \n",
       "\n",
       "        client_installments_AMT_PAYMENT_sum_min  \\\n",
       "181648                                32691.105   \n",
       "229245                                22835.790   \n",
       "122525                                51958.484   \n",
       "306311                                28595.521   \n",
       "300658                                37066.230   \n",
       "\n",
       "        client_installments_AMT_PAYMENT_sum_sum  \n",
       "181648                               9144313.00  \n",
       "229245                               2270414.80  \n",
       "122525                                207833.94  \n",
       "306311                              62301424.00  \n",
       "300658                                407728.53  \n",
       "\n",
       "[5 rows x 1543 columns]"
      ]
     },
     "execution_count": 6,
     "metadata": {},
     "output_type": "execute_result"
    }
   ],
   "source": [
    "#Ucitavanje fajla sa podacima za trening\n",
    "data = pd.read_csv(\"D:\\\\Vlada\\\\Milica master\\\\all_variables.csv\")\n",
    "X = data.drop('TARGET', axis = 1)\n",
    "y = data['TARGET']\n",
    "X_train, X_test, y_train, y_test = train_test_split(X, y, test_size = 0.2, random_state = 42, stratify = y)\n",
    "print('Dimenzije trening skupa: ', X_train.shape)\n",
    "X_train.head()"
   ]
  },
  {
   "cell_type": "code",
   "execution_count": null,
   "metadata": {},
   "outputs": [],
   "source": [
    "max_bin = 20\n",
    "force_bin = 3\n",
    "\n",
    "#funkcija koja deli na optimalne grupe\n",
    "def mono_bin(Y, X, n = max_bin):\n",
    "    \n",
    "    df1 = pd.DataFrame({\"X\": X, \"Y\": Y})\n",
    "    justmiss = df1[['X','Y']][df1.X.isnull()]\n",
    "    notmiss = df1[['X','Y']][df1.X.notnull()]\n",
    "    r = 0\n",
    "    while np.abs(r) < 1:\n",
    "        try:\n",
    "            d1 = pd.DataFrame({\"X\": notmiss.X, \"Y\": notmiss.Y, \"Bucket\": pd.qcut(notmiss.X, n)})\n",
    "            d2 = d1.groupby('Bucket', as_index=True)\n",
    "            r, p = stats.spearmanr(d2.mean().X, d2.mean().Y)\n",
    "            n = n - 1 \n",
    "        except Exception as e:\n",
    "            n = n - 1\n",
    "            \n",
    "    \n",
    "    if len(d2) == 1:\n",
    "        n = force_bin         \n",
    "        bins = algos.quantile(notmiss.X, np.linspace(0, 1, n))\n",
    "        if len(np.unique(bins)) == 2:\n",
    "            bins = np.insert(bins, 0, 1)\n",
    "            bins[1] = bins[1]-(bins[1]/2)\n",
    "        d1 = pd.DataFrame({\"X\": notmiss.X, \"Y\": notmiss.Y, \"Bucket\": pd.cut(notmiss.X, np.unique(bins),include_lowest=True)}) \n",
    "        d2 = d1.groupby('Bucket', as_index=True)\n",
    "    \n",
    "    d3 = pd.DataFrame({},index=[])\n",
    "    d3[\"MIN_VALUE\"] = d2.min().X\n",
    "    d3[\"MAX_VALUE\"] = d2.max().X\n",
    "    d3[\"COUNT\"] = d2.count().Y\n",
    "    d3[\"EVENT\"] = d2.sum().Y\n",
    "    d3[\"NONEVENT\"] = d2.count().Y - d2.sum().Y\n",
    "    d3=d3.reset_index(drop=True)\n",
    "    \n",
    "    if len(justmiss.index) > 0:\n",
    "        d4 = pd.DataFrame({'MIN_VALUE':np.nan},index=[0])\n",
    "        d4[\"MAX_VALUE\"] = np.nan\n",
    "        d4[\"COUNT\"] = justmiss.count().Y\n",
    "        d4[\"EVENT\"] = justmiss.sum().Y\n",
    "        d4[\"NONEVENT\"] = justmiss.count().Y - justmiss.sum().Y\n",
    "        d3 = d3.append(d4,ignore_index=True)\n",
    "    \n",
    "    d3[\"EVENT_RATE\"] = d3.EVENT/d3.COUNT\n",
    "    d3[\"NON_EVENT_RATE\"] = d3.NONEVENT/d3.COUNT\n",
    "    d3[\"DIST_EVENT\"] = d3.EVENT/d3.sum().EVENT\n",
    "    d3[\"DIST_NON_EVENT\"] = d3.NONEVENT/d3.sum().NONEVENT\n",
    "    d3[\"WOE\"] = np.log(d3.DIST_EVENT/d3.DIST_NON_EVENT)\n",
    "    d3[\"IV\"] = (d3.DIST_EVENT-d3.DIST_NON_EVENT)*np.log(d3.DIST_EVENT/d3.DIST_NON_EVENT)\n",
    "    d3[\"VAR_NAME\"] = \"VAR\"\n",
    "    d3 = d3[['VAR_NAME','MIN_VALUE', 'MAX_VALUE', 'COUNT', 'EVENT', 'EVENT_RATE', 'NONEVENT', 'NON_EVENT_RATE', 'DIST_EVENT','DIST_NON_EVENT','WOE', 'IV']]       \n",
    "    d3 = d3.replace([np.inf, -np.inf], 0)\n",
    "    d3.IV = d3.IV.sum()\n",
    "    \n",
    "    return(d3)\n",
    "    \n",
    "\n",
    "def data_vars(df1, target):\n",
    "    \n",
    "    stack = traceback.extract_stack()\n",
    "    filename, lineno, function_name, code = stack[-2]\n",
    "    vars_name = re.compile(r'\\((.*?)\\).*$').search(code).groups()[0]\n",
    "    final = (re.findall(r\"[\\w']+\", vars_name))[-1]\n",
    "    \n",
    "    x = df1.dtypes.index\n",
    "    count = -1\n",
    "    \n",
    "    for i in x:\n",
    "        if i.upper() not in (final.upper()):\n",
    "            conv = mono_bin(target, df1[i])\n",
    "            conv[\"VAR_NAME\"] = i\n",
    "            count = count + 1\n",
    "                \n",
    "            if count == 0:\n",
    "                iv_df = conv\n",
    "            else:\n",
    "                iv_df = iv_df.append(conv,ignore_index=True)\n",
    "    \n",
    "    iv = pd.DataFrame({'IV':iv_df.groupby('VAR_NAME').IV.max()})\n",
    "    iv = iv.reset_index()\n",
    "    return(iv_df,iv)\n",
    "\n",
    "final_iv, IV = data_vars(X_train,y_train)"
   ]
  },
  {
   "cell_type": "code",
   "execution_count": null,
   "metadata": {},
   "outputs": [],
   "source": [
    "final_iv.to_csv(\"final_iv.csv\",index = False, chunksize = 500)"
   ]
  },
  {
   "cell_type": "code",
   "execution_count": null,
   "metadata": {},
   "outputs": [],
   "source": [
    "final_iv=pd.read_csv(\"C:\\\\Users\\\\Vlada\\\\Desktop\\\\Milica master\\\\final_iv.csv\")"
   ]
  },
  {
   "cell_type": "code",
   "execution_count": null,
   "metadata": {},
   "outputs": [],
   "source": [
    "final_iv[final_iv['VAR_NAME']=='EXT_SOURCE_3']"
   ]
  },
  {
   "cell_type": "code",
   "execution_count": null,
   "metadata": {},
   "outputs": [],
   "source": [
    "#Varijable koje imaju informativnu vrednost iznad 0.1\n",
    "IV.loc[IV['IV']>0.1]"
   ]
  },
  {
   "cell_type": "code",
   "execution_count": null,
   "metadata": {},
   "outputs": [],
   "source": [
    "type(final_iv.loc[final_iv['VAR_NAME']=='EXT_SOURCE_1','WOE'])"
   ]
  },
  {
   "cell_type": "code",
   "execution_count": null,
   "metadata": {},
   "outputs": [],
   "source": [
    "tmp = final_iv[final_iv['VAR_NAME']=='EXT_SOURCE_1'][['MIN_VALUE','WOE']][:-1] \n",
    "#poslednja grupa je NaN pa cemo je ukloniti\n",
    "\n",
    "tmp['WOE'] = pd.to_numeric(tmp['WOE'])\n",
    "tmp['MIN_VALUE'] = pd.to_numeric(tmp['MIN_VALUE'])\n",
    "\n",
    "tmp.set_index('MIN_VALUE', inplace=True)\n",
    "\n",
    "fig, ax = plt.subplots( figsize=(10, 5))\n",
    "\n",
    "plt.title('WOE varijable EXT_SOURCE_1', fontsize=20)\n",
    "plt.xlabel('Donja granica grupe', fontsize=11)\n",
    "plt.ylabel('WoE', fontsize=11)\n",
    "\n",
    "ax.plot(tmp)\n",
    "ax.scatter(0.8, 0.152297)\n",
    "\n",
    "# legend = ax.legend(loc='upper right', shadow=True, fontsize='x-large')\n",
    "# legend.get_frame().set_facecolor('C0') # Put a nicer background color on the legend.\n",
    "\n",
    "ax.text(0.75, 0.22, \"NaN\")\n",
    "\n",
    "plt.show()\n",
    "#fig.savefig('test.jpg')"
   ]
  },
  {
   "cell_type": "code",
   "execution_count": null,
   "metadata": {},
   "outputs": [],
   "source": [
    "tmp = final_iv[final_iv['VAR_NAME']=='DAYS_BIRTH'][['MIN_VALUE','WOE']]\n",
    "\n",
    "tmp['WOE'] = pd.to_numeric(tmp['WOE'])\n",
    "tmp['MIN_VALUE'] = pd.to_numeric(tmp['MIN_VALUE'])\n",
    "\n",
    "tmp.set_index('MIN_VALUE', inplace=True) \n",
    "fig, ax = plt.subplots( figsize=(10, 5))\n",
    "\n",
    "plt.title('WOE varijable DAYS_BIRTH', fontsize=20)\n",
    "plt.xlabel('Donja granica grupe', fontsize=11)\n",
    "plt.ylabel('WoE', fontsize=11)\n",
    "\n",
    "ax.plot(tmp)\n",
    "\n",
    "# legend = ax.legend(loc='upper right', shadow=True, fontsize='x-large')\n",
    "# legend.get_frame().set_facecolor('C0') # Put a nicer background color on the legend.\n",
    "\n",
    "\n",
    "plt.show()"
   ]
  },
  {
   "cell_type": "code",
   "execution_count": null,
   "metadata": {},
   "outputs": [],
   "source": [
    "import time\n",
    "\n",
    "#transformisemo pocetni uzorak tako sto umesto pocetne vrednosti varijable, stavljamo njenu WOE vrednost\n",
    "def WOE_transformation(data,vars):\n",
    "    start = time.time()\n",
    "\n",
    "    for var in vars:\n",
    "\n",
    "        tmp = final_iv[final_iv['VAR_NAME']==var][['MIN_VALUE','MAX_VALUE','WOE']]\n",
    "\n",
    "        for idx, row in data.iterrows():\n",
    "\n",
    "            for l,r,w in zip(tmp['MIN_VALUE'],tmp['MAX_VALUE'], tmp['WOE']):\n",
    "\n",
    "                if (pd.isna(row[var]) or (row[var]>=l and row[var]<=r)):\n",
    "\n",
    "                    data.loc[idx, var] = w\n",
    "\n",
    "    end = time.time()\n",
    "    print(round((end-start)/60,2))"
   ]
  },
  {
   "cell_type": "code",
   "execution_count": null,
   "metadata": {},
   "outputs": [],
   "source": [
    "vars=['EXT_SOURCE_1','EXT_SOURCE_2','EXT_SOURCE_3','bureau_DAYS_CREDIT_mean','client_installments_AMT_PAYMENT_min_sum']\n",
    "WOE_transformation(X_train,vars)\n",
    "WOE_transformation(X_test,vars)"
   ]
  },
  {
   "cell_type": "code",
   "execution_count": null,
   "metadata": {},
   "outputs": [],
   "source": [
    "#WOE transformacija traje dugo pa cemo rezultate sacuvati u excelu\n",
    "X_test_short_list=X_test[['EXT_SOURCE_1','EXT_SOURCE_2','EXT_SOURCE_3','bureau_DAYS_CREDIT_mean','client_installments_AMT_PAYMENT_min_sum']]\n",
    "X_train_short_list=X_train[['EXT_SOURCE_1','EXT_SOURCE_2','EXT_SOURCE_3','bureau_DAYS_CREDIT_mean','client_installments_AMT_PAYMENT_min_sum']]"
   ]
  },
  {
   "cell_type": "code",
   "execution_count": null,
   "metadata": {},
   "outputs": [],
   "source": [
    "X_train_short_list.to_csv('X_train_short_list.csv',index = False, chunksize = 500)"
   ]
  },
  {
   "cell_type": "code",
   "execution_count": null,
   "metadata": {},
   "outputs": [],
   "source": [
    "X_test_short_list.to_csv('X_test_short_list.csv',index = False, chunksize = 500)"
   ]
  },
  {
   "cell_type": "code",
   "execution_count": 7,
   "metadata": {},
   "outputs": [],
   "source": [
    "X_train_short_list=pd.read_csv('D:\\\\Vlada\\\\Milica master\\\\X_train_short_list.csv')\n",
    "X_test_short_list=pd.read_csv('D:\\\\Vlada\\\\Milica master\\\\X_test_short_list.csv')"
   ]
  },
  {
   "cell_type": "code",
   "execution_count": 8,
   "metadata": {},
   "outputs": [],
   "source": [
    "grid_model = LogisticRegression()\n",
    "params = {'C': [10**i for i in range(-5, 5)]}\n",
    "grid = model_selection.GridSearchCV(grid_model, param_grid=params, scoring='roc_auc', cv=5, return_train_score=True)"
   ]
  },
  {
   "cell_type": "code",
   "execution_count": 9,
   "metadata": {},
   "outputs": [
    {
     "data": {
      "text/plain": [
       "GridSearchCV(cv=5, estimator=LogisticRegression(),\n",
       "             param_grid={'C': [1e-05, 0.0001, 0.001, 0.01, 0.1, 1, 10, 100,\n",
       "                               1000, 10000]},\n",
       "             return_train_score=True, scoring='roc_auc')"
      ]
     },
     "execution_count": 9,
     "metadata": {},
     "output_type": "execute_result"
    }
   ],
   "source": [
    "grid.fit(X_train_short_list, y_train)"
   ]
  },
  {
   "cell_type": "code",
   "execution_count": 10,
   "metadata": {},
   "outputs": [
    {
     "data": {
      "text/plain": [
       "{'C': 100}"
      ]
     },
     "execution_count": 10,
     "metadata": {},
     "output_type": "execute_result"
    }
   ],
   "source": [
    "grid.best_params_"
   ]
  },
  {
   "cell_type": "code",
   "execution_count": 11,
   "metadata": {},
   "outputs": [
    {
     "data": {
      "text/plain": [
       "LogisticRegression(C=100, class_weight='balanced')"
      ]
     },
     "execution_count": 11,
     "metadata": {},
     "output_type": "execute_result"
    }
   ],
   "source": [
    "log_reg = LogisticRegression(class_weight = 'balanced',C = 100)\n",
    "#Obucavamo model na trening setu\n",
    "log_reg.fit(X_train_short_list, y_train)"
   ]
  },
  {
   "cell_type": "code",
   "execution_count": 12,
   "metadata": {},
   "outputs": [
    {
     "data": {
      "text/plain": [
       "array([[0.50629829, 0.49370171],\n",
       "       [0.65682623, 0.34317377],\n",
       "       [0.35421682, 0.64578318],\n",
       "       ...,\n",
       "       [0.42189706, 0.57810294],\n",
       "       [0.43378152, 0.56621848],\n",
       "       [0.44190262, 0.55809738]])"
      ]
     },
     "execution_count": 12,
     "metadata": {},
     "output_type": "execute_result"
    }
   ],
   "source": [
    "log_reg_pred = log_reg.predict_proba(X_test_short_list)\n",
    "log_reg_pred"
   ]
  },
  {
   "cell_type": "code",
   "execution_count": 13,
   "metadata": {},
   "outputs": [
    {
     "name": "stdout",
     "output_type": "stream",
     "text": [
      "Tacnost na trening setu: 0.673\n",
      "Tacnost na test setu: 0.674\n"
     ]
    }
   ],
   "source": [
    "print(\"Tacnost na trening setu: {:.3f}\".format(log_reg.score(X_train_short_list, y_train)))\n",
    "print(\"Tacnost na test setu: {:.3f}\".format(log_reg.score(X_test_short_list, y_test)))"
   ]
  },
  {
   "cell_type": "code",
   "execution_count": 14,
   "metadata": {},
   "outputs": [
    {
     "name": "stdout",
     "output_type": "stream",
     "text": [
      "              precision    recall  f1-score   support\n",
      "\n",
      "           0       0.96      0.67      0.79     56538\n",
      "           1       0.15      0.67      0.25      4965\n",
      "\n",
      "    accuracy                           0.67     61503\n",
      "   macro avg       0.56      0.67      0.52     61503\n",
      "weighted avg       0.89      0.67      0.75     61503\n",
      "\n"
     ]
    }
   ],
   "source": [
    "predicted = log_reg.predict(X_test_short_list)\n",
    "report = classification_report(y_test, predicted)\n",
    "print(report)"
   ]
  },
  {
   "cell_type": "code",
   "execution_count": 15,
   "metadata": {},
   "outputs": [
    {
     "data": {
      "image/png": "[encoded data removed]",
      "text/plain": [
       "<Figure size 432x288 with 1 Axes>"
      ]
     },
     "metadata": {
      "needs_background": "light"
     },
     "output_type": "display_data"
    }
   ],
   "source": [
    "logit_roc_auc = roc_auc_score(y_test, log_reg.predict(X_test_short_list))\n",
    "fpr, tpr, thresholds = roc_curve(y_test, log_reg.predict_proba(X_test_short_list)[:,1])\n",
    "plt.figure()\n",
    "plt.plot(fpr, tpr, label='Logistic Regression (area = %0.2f)' % logit_roc_auc)\n",
    "plt.plot([0, 1], [0, 1],'r--')\n",
    "plt.xlim([0.0, 1.0])\n",
    "plt.ylim([0.0, 1.05])\n",
    "plt.xlabel('1-specificnost')\n",
    "plt.ylabel('osetljivost')\n",
    "plt.title('ROC kriva')\n",
    "plt.legend(loc=\"lower right\")\n",
    "plt.show()\n",
    "plt.show()"
   ]
  },
  {
   "cell_type": "code",
   "execution_count": null,
   "metadata": {},
   "outputs": [],
   "source": []
  }
 ],
 "metadata": {
  "kernelspec": {
   "display_name": "Python 3",
   "language": "python",
   "name": "python3"
  },
  "language_info": {
   "codemirror_mode": {
    "name": "ipython",
    "version": 3
   },
   "file_extension": ".py",
   "mimetype": "text/x-python",
   "name": "python",
   "nbconvert_exporter": "python",
   "pygments_lexer": "ipython3",
   "version": "3.8.5"
  }
 },
 "nbformat": 4,
 "nbformat_minor": 4
}
